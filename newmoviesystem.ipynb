{
  "nbformat": 4,
  "nbformat_minor": 0,
  "metadata": {
    "colab": {
      "provenance": [],
      "authorship_tag": "ABX9TyNnpFQgpZms8x0wR+DTNrhY",
      "include_colab_link": true
    },
    "kernelspec": {
      "name": "python3",
      "display_name": "Python 3"
    },
    "language_info": {
      "name": "python"
    }
  },
  "cells": [
    {
      "cell_type": "markdown",
      "metadata": {
        "id": "view-in-github",
        "colab_type": "text"
      },
      "source": [
        "<a href=\"https://colab.research.google.com/github/anabeatrizzdm/MovieRecommendationSystem/blob/main/newmoviesystem.ipynb\" target=\"_parent\"><img src=\"https://colab.research.google.com/assets/colab-badge.svg\" alt=\"Open In Colab\"/></a>"
      ]
    },
    {
      "cell_type": "code",
      "execution_count": null,
      "metadata": {
        "id": "ok9mh2OxTxAH"
      },
      "outputs": [],
      "source": [
        "import pandas as pd\n",
        "import numpy as np"
      ]
    },
    {
      "cell_type": "code",
      "source": [
        "from google.colab import drive\n",
        "drive.mount('/content/drive', force_remount=True)"
      ],
      "metadata": {
        "id": "wFouDS0aUkxg"
      },
      "execution_count": null,
      "outputs": []
    },
    {
      "cell_type": "code",
      "source": [
        "caminho_csv = '/content/drive/My Drive/newmoviesystem/1000movies.csv'"
      ],
      "metadata": {
        "id": "zjut1ZJVVBFF"
      },
      "execution_count": null,
      "outputs": []
    },
    {
      "cell_type": "code",
      "source": [
        "movies = pd.read_csv(caminho_csv, lineterminator='\\n')"
      ],
      "metadata": {
        "id": "82SekXPQVPtW"
      },
      "execution_count": null,
      "outputs": []
    },
    {
      "cell_type": "code",
      "source": [
        "print(movies.head())"
      ],
      "metadata": {
        "id": "jAHXiQn6WAKQ"
      },
      "execution_count": null,
      "outputs": []
    },
    {
      "cell_type": "code",
      "source": [
        "print('movies', movies.shape)"
      ],
      "metadata": {
        "id": "gBb_pEA8WTK-"
      },
      "execution_count": null,
      "outputs": []
    },
    {
      "cell_type": "code",
      "source": [
        "columns_to_keep = ['id', 'title', 'genres', 'original_language', 'overview']"
      ],
      "metadata": {
        "id": "qhmfv6heZANT"
      },
      "execution_count": null,
      "outputs": []
    },
    {
      "cell_type": "code",
      "source": [
        "movies_cleaned = pd.read_csv(caminho_csv, usecols=columns_to_keep, lineterminator='\\n')"
      ],
      "metadata": {
        "id": "4Lvomy3VZUpp"
      },
      "execution_count": null,
      "outputs": []
    },
    {
      "cell_type": "code",
      "source": [
        "from sklearn.feature_extraction.text import TfidfVectorizer\n",
        "\n",
        "# Combina as colunas 'overview' e 'genres' em uma nova coluna chamada 'combined_features'\n",
        "movies_cleaned['combined_features'] = movies_cleaned['overview'] + ' ' + movies_cleaned['genres']\n",
        "\n",
        "# Cria um TfidfVectorizer\n",
        "tfv = TfidfVectorizer(min_df=3, max_features=None,\n",
        "                      strip_accents='unicode', analyzer='word', token_pattern=r'\\w{1,}',\n",
        "                      ngram_range=(1, 3),\n",
        "                      stop_words='english')\n"
      ],
      "metadata": {
        "id": "qtRPqdG-WWAG"
      },
      "execution_count": null,
      "outputs": []
    },
    {
      "cell_type": "code",
      "source": [
        "# Ajusta e transforma os dados\n",
        "tfv_matrix = tfv.fit_transform(movies_cleaned['combined_features'])"
      ],
      "metadata": {
        "id": "neEsWBoMZyYt"
      },
      "execution_count": null,
      "outputs": []
    },
    {
      "cell_type": "code",
      "source": [
        "tfv_matrix"
      ],
      "metadata": {
        "id": "hdg-dssLZ2gM"
      },
      "execution_count": null,
      "outputs": []
    },
    {
      "cell_type": "code",
      "source": [
        "tfv_matrix.shape"
      ],
      "metadata": {
        "id": "e71oBc_OZ7Jq"
      },
      "execution_count": null,
      "outputs": []
    },
    {
      "cell_type": "code",
      "source": [
        "from sklearn.metrics.pairwise import sigmoid_kernel"
      ],
      "metadata": {
        "id": "BHkQ2ReAZ_bS"
      },
      "execution_count": null,
      "outputs": []
    },
    {
      "cell_type": "code",
      "source": [
        "sig = sigmoid_kernel(tfv_matrix,tfv_matrix)"
      ],
      "metadata": {
        "id": "0gLGlFVvaCh5"
      },
      "execution_count": null,
      "outputs": []
    },
    {
      "cell_type": "code",
      "source": [
        "sig[0]"
      ],
      "metadata": {
        "id": "WmTW0sAjaI2i"
      },
      "execution_count": null,
      "outputs": []
    },
    {
      "cell_type": "code",
      "source": [
        "indices= pd.Series(movies_cleaned.index, index=movies_cleaned['title']).drop_duplicates()"
      ],
      "metadata": {
        "id": "PCtdS7cUaOP5"
      },
      "execution_count": null,
      "outputs": []
    },
    {
      "cell_type": "code",
      "source": [
        "indices"
      ],
      "metadata": {
        "id": "DvwHLUnPaWPT"
      },
      "execution_count": null,
      "outputs": []
    },
    {
      "cell_type": "code",
      "source": [
        "def give_recommendation(title, sig=sig):\n",
        "  idx = indices[title]\n",
        "  sig_scores = list(enumerate(sig[idx]))\n",
        "  sig_scores = sorted(sig_scores, key=lambda x:x[1], reverse=True)\n",
        "  sig_scores = sig_scores[1:8]\n",
        "  movie_indices = [i[0] for i in sig_scores]\n",
        "  return movies_cleaned['title'].iloc[movie_indices]"
      ],
      "metadata": {
        "id": "pzI_eZN1abaT"
      },
      "execution_count": null,
      "outputs": []
    },
    {
      "cell_type": "code",
      "source": [
        "give_recommendation('Clueless')"
      ],
      "metadata": {
        "id": "wYn80jTTalAj"
      },
      "execution_count": null,
      "outputs": []
    }
  ]
}